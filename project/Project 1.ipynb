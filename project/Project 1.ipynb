{
 "cells": [
  {
   "cell_type": "code",
   "execution_count": 2,
   "id": "20fc2f9f",
   "metadata": {},
   "outputs": [],
   "source": [
    "import numpy as np\n",
    "import pandas as pd"
   ]
  },
  {
   "cell_type": "code",
   "execution_count": 3,
   "id": "0c0ad459",
   "metadata": {},
   "outputs": [],
   "source": [
    "data=pd.read_csv(\"C:\\\\Users\\\\pedro\\\\Desktop\\\\trai\\\\sales-data.csv\")"
   ]
  },
  {
   "cell_type": "code",
   "execution_count": 4,
   "id": "b800a5d7",
   "metadata": {},
   "outputs": [
    {
     "data": {
      "text/html": [
       "<div>\n",
       "<style scoped>\n",
       "    .dataframe tbody tr th:only-of-type {\n",
       "        vertical-align: middle;\n",
       "    }\n",
       "\n",
       "    .dataframe tbody tr th {\n",
       "        vertical-align: top;\n",
       "    }\n",
       "\n",
       "    .dataframe thead th {\n",
       "        text-align: right;\n",
       "    }\n",
       "</style>\n",
       "<table border=\"1\" class=\"dataframe\">\n",
       "  <thead>\n",
       "    <tr style=\"text-align: right;\">\n",
       "      <th></th>\n",
       "      <th>ind</th>\n",
       "      <th>Order ID</th>\n",
       "      <th>Product</th>\n",
       "      <th>Quantity Ordered</th>\n",
       "      <th>Price Each</th>\n",
       "      <th>Order Date</th>\n",
       "      <th>Purchase Address</th>\n",
       "      <th>Month</th>\n",
       "      <th>City</th>\n",
       "    </tr>\n",
       "  </thead>\n",
       "  <tbody>\n",
       "    <tr>\n",
       "      <th>0</th>\n",
       "      <td>0</td>\n",
       "      <td>176558</td>\n",
       "      <td>USB-C Charging Cable</td>\n",
       "      <td>2</td>\n",
       "      <td>11.95</td>\n",
       "      <td>04/19/19 08:46</td>\n",
       "      <td>917 1st St, Dallas, TX 75001</td>\n",
       "      <td>4</td>\n",
       "      <td>Dallas  (TX)</td>\n",
       "    </tr>\n",
       "    <tr>\n",
       "      <th>1</th>\n",
       "      <td>2</td>\n",
       "      <td>176559</td>\n",
       "      <td>Bose SoundSport Headphones</td>\n",
       "      <td>1</td>\n",
       "      <td>99.99</td>\n",
       "      <td>04/07/19 22:30</td>\n",
       "      <td>682 Chestnut St, Boston, MA 02215</td>\n",
       "      <td>4</td>\n",
       "      <td>Boston  (MA)</td>\n",
       "    </tr>\n",
       "    <tr>\n",
       "      <th>2</th>\n",
       "      <td>3</td>\n",
       "      <td>176560</td>\n",
       "      <td>Google Phone</td>\n",
       "      <td>1</td>\n",
       "      <td>600.00</td>\n",
       "      <td>04/12/19 14:38</td>\n",
       "      <td>669 Spruce St, Los Angeles, CA 90001</td>\n",
       "      <td>4</td>\n",
       "      <td>Los Angeles  (CA)</td>\n",
       "    </tr>\n",
       "    <tr>\n",
       "      <th>3</th>\n",
       "      <td>4</td>\n",
       "      <td>176560</td>\n",
       "      <td>Wired Headphones</td>\n",
       "      <td>1</td>\n",
       "      <td>11.99</td>\n",
       "      <td>04/12/19 14:38</td>\n",
       "      <td>669 Spruce St, Los Angeles, CA 90001</td>\n",
       "      <td>4</td>\n",
       "      <td>Los Angeles  (CA)</td>\n",
       "    </tr>\n",
       "    <tr>\n",
       "      <th>4</th>\n",
       "      <td>5</td>\n",
       "      <td>176561</td>\n",
       "      <td>Wired Headphones</td>\n",
       "      <td>1</td>\n",
       "      <td>11.99</td>\n",
       "      <td>04/30/19 09:27</td>\n",
       "      <td>333 8th St, Los Angeles, CA 90001</td>\n",
       "      <td>4</td>\n",
       "      <td>Los Angeles  (CA)</td>\n",
       "    </tr>\n",
       "  </tbody>\n",
       "</table>\n",
       "</div>"
      ],
      "text/plain": [
       "   ind  Order ID                     Product  Quantity Ordered  Price Each  \\\n",
       "0    0    176558        USB-C Charging Cable                 2       11.95   \n",
       "1    2    176559  Bose SoundSport Headphones                 1       99.99   \n",
       "2    3    176560                Google Phone                 1      600.00   \n",
       "3    4    176560            Wired Headphones                 1       11.99   \n",
       "4    5    176561            Wired Headphones                 1       11.99   \n",
       "\n",
       "       Order Date                      Purchase Address  Month  \\\n",
       "0  04/19/19 08:46          917 1st St, Dallas, TX 75001      4   \n",
       "1  04/07/19 22:30     682 Chestnut St, Boston, MA 02215      4   \n",
       "2  04/12/19 14:38  669 Spruce St, Los Angeles, CA 90001      4   \n",
       "3  04/12/19 14:38  669 Spruce St, Los Angeles, CA 90001      4   \n",
       "4  04/30/19 09:27     333 8th St, Los Angeles, CA 90001      4   \n",
       "\n",
       "                City  \n",
       "0       Dallas  (TX)  \n",
       "1       Boston  (MA)  \n",
       "2  Los Angeles  (CA)  \n",
       "3  Los Angeles  (CA)  \n",
       "4  Los Angeles  (CA)  "
      ]
     },
     "execution_count": 4,
     "metadata": {},
     "output_type": "execute_result"
    }
   ],
   "source": [
    "data.head()"
   ]
  },
  {
   "cell_type": "code",
   "execution_count": 8,
   "id": "61e20ccf",
   "metadata": {},
   "outputs": [],
   "source": [
    "data['Order Date']=pd.to_datetime(data['Order Date'])"
   ]
  },
  {
   "cell_type": "code",
   "execution_count": 10,
   "id": "85fe2786",
   "metadata": {},
   "outputs": [
    {
     "data": {
      "text/html": [
       "<div>\n",
       "<style scoped>\n",
       "    .dataframe tbody tr th:only-of-type {\n",
       "        vertical-align: middle;\n",
       "    }\n",
       "\n",
       "    .dataframe tbody tr th {\n",
       "        vertical-align: top;\n",
       "    }\n",
       "\n",
       "    .dataframe thead th {\n",
       "        text-align: right;\n",
       "    }\n",
       "</style>\n",
       "<table border=\"1\" class=\"dataframe\">\n",
       "  <thead>\n",
       "    <tr style=\"text-align: right;\">\n",
       "      <th></th>\n",
       "      <th>ind</th>\n",
       "      <th>Order ID</th>\n",
       "      <th>Product</th>\n",
       "      <th>Quantity Ordered</th>\n",
       "      <th>Price Each</th>\n",
       "      <th>Order Date</th>\n",
       "      <th>Purchase Address</th>\n",
       "      <th>Month</th>\n",
       "      <th>City</th>\n",
       "      <th>Total</th>\n",
       "    </tr>\n",
       "  </thead>\n",
       "  <tbody>\n",
       "    <tr>\n",
       "      <th>0</th>\n",
       "      <td>0</td>\n",
       "      <td>176558</td>\n",
       "      <td>USB-C Charging Cable</td>\n",
       "      <td>2</td>\n",
       "      <td>11.95</td>\n",
       "      <td>2019-04-19 08:46:00</td>\n",
       "      <td>917 1st St, Dallas, TX 75001</td>\n",
       "      <td>4</td>\n",
       "      <td>Dallas  (TX)</td>\n",
       "      <td>23.90</td>\n",
       "    </tr>\n",
       "    <tr>\n",
       "      <th>1</th>\n",
       "      <td>2</td>\n",
       "      <td>176559</td>\n",
       "      <td>Bose SoundSport Headphones</td>\n",
       "      <td>1</td>\n",
       "      <td>99.99</td>\n",
       "      <td>2019-04-07 22:30:00</td>\n",
       "      <td>682 Chestnut St, Boston, MA 02215</td>\n",
       "      <td>4</td>\n",
       "      <td>Boston  (MA)</td>\n",
       "      <td>99.99</td>\n",
       "    </tr>\n",
       "    <tr>\n",
       "      <th>2</th>\n",
       "      <td>3</td>\n",
       "      <td>176560</td>\n",
       "      <td>Google Phone</td>\n",
       "      <td>1</td>\n",
       "      <td>600.00</td>\n",
       "      <td>2019-04-12 14:38:00</td>\n",
       "      <td>669 Spruce St, Los Angeles, CA 90001</td>\n",
       "      <td>4</td>\n",
       "      <td>Los Angeles  (CA)</td>\n",
       "      <td>600.00</td>\n",
       "    </tr>\n",
       "    <tr>\n",
       "      <th>3</th>\n",
       "      <td>4</td>\n",
       "      <td>176560</td>\n",
       "      <td>Wired Headphones</td>\n",
       "      <td>1</td>\n",
       "      <td>11.99</td>\n",
       "      <td>2019-04-12 14:38:00</td>\n",
       "      <td>669 Spruce St, Los Angeles, CA 90001</td>\n",
       "      <td>4</td>\n",
       "      <td>Los Angeles  (CA)</td>\n",
       "      <td>11.99</td>\n",
       "    </tr>\n",
       "    <tr>\n",
       "      <th>4</th>\n",
       "      <td>5</td>\n",
       "      <td>176561</td>\n",
       "      <td>Wired Headphones</td>\n",
       "      <td>1</td>\n",
       "      <td>11.99</td>\n",
       "      <td>2019-04-30 09:27:00</td>\n",
       "      <td>333 8th St, Los Angeles, CA 90001</td>\n",
       "      <td>4</td>\n",
       "      <td>Los Angeles  (CA)</td>\n",
       "      <td>11.99</td>\n",
       "    </tr>\n",
       "  </tbody>\n",
       "</table>\n",
       "</div>"
      ],
      "text/plain": [
       "   ind  Order ID                     Product  Quantity Ordered  Price Each  \\\n",
       "0    0    176558        USB-C Charging Cable                 2       11.95   \n",
       "1    2    176559  Bose SoundSport Headphones                 1       99.99   \n",
       "2    3    176560                Google Phone                 1      600.00   \n",
       "3    4    176560            Wired Headphones                 1       11.99   \n",
       "4    5    176561            Wired Headphones                 1       11.99   \n",
       "\n",
       "           Order Date                      Purchase Address  Month  \\\n",
       "0 2019-04-19 08:46:00          917 1st St, Dallas, TX 75001      4   \n",
       "1 2019-04-07 22:30:00     682 Chestnut St, Boston, MA 02215      4   \n",
       "2 2019-04-12 14:38:00  669 Spruce St, Los Angeles, CA 90001      4   \n",
       "3 2019-04-12 14:38:00  669 Spruce St, Los Angeles, CA 90001      4   \n",
       "4 2019-04-30 09:27:00     333 8th St, Los Angeles, CA 90001      4   \n",
       "\n",
       "                City   Total  \n",
       "0       Dallas  (TX)   23.90  \n",
       "1       Boston  (MA)   99.99  \n",
       "2  Los Angeles  (CA)  600.00  \n",
       "3  Los Angeles  (CA)   11.99  \n",
       "4  Los Angeles  (CA)   11.99  "
      ]
     },
     "execution_count": 10,
     "metadata": {},
     "output_type": "execute_result"
    }
   ],
   "source": [
    "data.head()"
   ]
  },
  {
   "cell_type": "code",
   "execution_count": 5,
   "id": "9a6da0eb",
   "metadata": {},
   "outputs": [
    {
     "name": "stdout",
     "output_type": "stream",
     "text": [
      "Month 12 : $4613443.34\n"
     ]
    }
   ],
   "source": [
    "#Question1\n",
    "data['Total']=(data['Quantity Ordered']*data['Price Each'])\n",
    "g=data.groupby('Month')\n",
    "a=g['Total'].sum()\n",
    "print(\"Month \"+str(a.idxmax())+\" : $\"+str(a.max()))"
   ]
  },
  {
   "cell_type": "code",
   "execution_count": 6,
   "id": "2e22902d",
   "metadata": {},
   "outputs": [
    {
     "name": "stdout",
     "output_type": "stream",
     "text": [
      "City San Francisco  (CA) : 50239\n"
     ]
    }
   ],
   "source": [
    "#Question2\n",
    "g=data.groupby('City')\n",
    "a=g['Quantity Ordered'].sum()\n",
    "print(\"City \"+str(a.idxmax())+\" : \"+str(a.max()))"
   ]
  },
  {
   "cell_type": "code",
   "execution_count": 13,
   "id": "eea5de9f",
   "metadata": {},
   "outputs": [],
   "source": [
    "data['hour']=data['Order Date'].dt.hour#create a new column with"
   ]
  },
  {
   "cell_type": "code",
   "execution_count": 15,
   "id": "4aad4fe1",
   "metadata": {},
   "outputs": [
    {
     "name": "stdout",
     "output_type": "stream",
     "text": [
      "Hour 19 : 14470\n"
     ]
    }
   ],
   "source": [
    "#Question3\n",
    "g=data.groupby('hour')\n",
    "a=g['Quantity Ordered'].sum()\n",
    "print(\"Hour \"+str(a.idxmax())+\" : \"+str(a.max()))"
   ]
  },
  {
   "cell_type": "code",
   "execution_count": null,
   "id": "f8f08276",
   "metadata": {},
   "outputs": [],
   "source": [
    "temp=df.collect()\n",
    "prev=0\n",
    "a=[\"\"]\n",
    "cnt={}\n",
    "for row in temp:\n",
    "    order=row['orderid']\n",
    "    prod=row['product']\n",
    "    if order!=prev:\n",
    "        if len(a)>1:\n",
    "            a.sort()\n",
    "            sab=\"\"\n",
    "            for i in a:\n",
    "                sab=i+sab\n",
    "            if cnt.get(sab)==None:\n",
    "                cnt.update({sab:1})\n",
    "            else:\n",
    "                cnt.update({sab:cnt.get(sab)+1})\n",
    "        a=[]\n",
    "        a.append(prod)\n",
    "    else:\n",
    "        a.append(prod)\n",
    "    prev=order\n",
    "    b=b+1\n",
    "        \n",
    "print(cnt)"
   ]
  },
  {
   "cell_type": "code",
   "execution_count": 49,
   "id": "da652a32",
   "metadata": {},
   "outputs": [
    {
     "name": "stdout",
     "output_type": "stream",
     "text": [
      "Lightning Charging Cable, iPhone, \n",
      "891\n"
     ]
    }
   ],
   "source": [
    "#Question4\n",
    "g=data.groupby('Order ID')\n",
    "g.head()\n",
    "cnt={}\n",
    "for name, dataframe in g:\n",
    "    ar = []\n",
    "    for index, row in dataframe.iterrows():\n",
    "        ar.append(row['Product'])\n",
    "    ar.sort()\n",
    "    temp=\"\"\n",
    "    if len(ar)>1:\n",
    "        for i in ar:\n",
    "            temp=temp+i+\", \"\n",
    "        if cnt.get(temp)==None:\n",
    "            cnt.update({temp:1})\n",
    "        else:\n",
    "            cnt.update({temp:cnt.get(temp)+1})\n",
    "maxval=0\n",
    "maxprod=\"\"\n",
    "for i in cnt:\n",
    "    if(cnt[i]>maxval):\n",
    "        maxval=cnt[i]\n",
    "        maxprod=i\n",
    "print(maxprod)\n",
    "print(maxval)"
   ]
  },
  {
   "cell_type": "code",
   "execution_count": 86,
   "id": "ebdcf82d",
   "metadata": {},
   "outputs": [
    {
     "name": "stdout",
     "output_type": "stream",
     "text": [
      "Product AAA Batteries (4-pack) : 31017\n"
     ]
    }
   ],
   "source": [
    "#Question5\n",
    "g=data.groupby('Product')\n",
    "a=g['Quantity Ordered'].sum()\n",
    "print(\"Product \"+str(a.idxmax())+\" : \"+str(a.max()))\n",
    "#commonly needed cheap product thus sales will be high"
   ]
  },
  {
   "cell_type": "code",
   "execution_count": null,
   "id": "61d03dfc",
   "metadata": {},
   "outputs": [],
   "source": []
  }
 ],
 "metadata": {
  "kernelspec": {
   "display_name": "Python 3",
   "language": "python",
   "name": "python3"
  },
  "language_info": {
   "codemirror_mode": {
    "name": "ipython",
    "version": 3
   },
   "file_extension": ".py",
   "mimetype": "text/x-python",
   "name": "python",
   "nbconvert_exporter": "python",
   "pygments_lexer": "ipython3",
   "version": "3.8.10"
  }
 },
 "nbformat": 4,
 "nbformat_minor": 5
}
