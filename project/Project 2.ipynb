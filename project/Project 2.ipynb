{
 "cells": [
  {
   "cell_type": "code",
   "execution_count": null,
   "id": "066414a5",
   "metadata": {},
   "outputs": [],
   "source": [
    "Question\n",
    "\n",
    "1)\tWhich restaurant has the largest number of votes from the customer\n",
    "2)\tWhich city has more number of poor and not rated rating than very good rating in each country?\n",
    "3) Which city is costliest in each country? ( Assume all the currency are of same value)\n",
    "4) In india how many restaurants are present in each locality?\n",
    "5) Which city has the most number of restaurants in each country?\n",
    "6) Which franchise has the highest number of Restaurants?\n",
    "7) How many Restaurants are accepting online orders?\n",
    "8) How many have a book table facility?\n",
    "9) Which location has the highest number of Restaurants?\n",
    "10) How many types of Restaurant types are there?\n",
    "11) What is the most liked Restaurant type?\n",
    "12) What is the Average cost for 2 persons?\n",
    "13) What is the most liked Dish type?\n"
   ]
  },
  {
   "cell_type": "code",
   "execution_count": 2,
   "id": "374c2fa5",
   "metadata": {},
   "outputs": [],
   "source": [
    "import os\n",
    "import pandas as pd\n",
    "import matplotlib.pyplot as plt"
   ]
  },
  {
   "cell_type": "code",
   "execution_count": 12,
   "id": "3c1345cb",
   "metadata": {},
   "outputs": [],
   "source": [
    "data=pd.read_csv(\"C:\\\\Users\\\\pedro\\\\Desktop\\\\trai\\\\zomato.csv\",encoding='latin-1')\n",
    "data=pd.DataFrame(data)\n",
    "data2=pd.read_csv(\"C:\\\\Users\\\\pedro\\\\Desktop\\\\trai\\\\CountryCode.csv\")\n",
    "data2=pd.DataFrame(data2)"
   ]
  },
  {
   "cell_type": "code",
   "execution_count": 14,
   "id": "870f7c17",
   "metadata": {},
   "outputs": [
    {
     "data": {
      "text/html": [
       "<div>\n",
       "<style scoped>\n",
       "    .dataframe tbody tr th:only-of-type {\n",
       "        vertical-align: middle;\n",
       "    }\n",
       "\n",
       "    .dataframe tbody tr th {\n",
       "        vertical-align: top;\n",
       "    }\n",
       "\n",
       "    .dataframe thead th {\n",
       "        text-align: right;\n",
       "    }\n",
       "</style>\n",
       "<table border=\"1\" class=\"dataframe\">\n",
       "  <thead>\n",
       "    <tr style=\"text-align: right;\">\n",
       "      <th></th>\n",
       "      <th>Restaurant ID</th>\n",
       "      <th>Restaurant Name</th>\n",
       "      <th>cc</th>\n",
       "      <th>City</th>\n",
       "      <th>Address</th>\n",
       "      <th>Locality</th>\n",
       "      <th>Locality Verbose</th>\n",
       "      <th>Longitude</th>\n",
       "      <th>Latitude</th>\n",
       "      <th>Cuisines</th>\n",
       "      <th>...</th>\n",
       "      <th>Currency</th>\n",
       "      <th>Has Table booking</th>\n",
       "      <th>Has Online delivery</th>\n",
       "      <th>Is delivering now</th>\n",
       "      <th>Switch to order menu</th>\n",
       "      <th>Price range</th>\n",
       "      <th>Aggregate rating</th>\n",
       "      <th>Rating color</th>\n",
       "      <th>Rating text</th>\n",
       "      <th>Votes</th>\n",
       "    </tr>\n",
       "  </thead>\n",
       "  <tbody>\n",
       "    <tr>\n",
       "      <th>0</th>\n",
       "      <td>6317637</td>\n",
       "      <td>Le Petit Souffle</td>\n",
       "      <td>162</td>\n",
       "      <td>Makati City</td>\n",
       "      <td>Third Floor, Century City Mall, Kalayaan Avenu...</td>\n",
       "      <td>Century City Mall, Poblacion, Makati City</td>\n",
       "      <td>Century City Mall, Poblacion, Makati City, Mak...</td>\n",
       "      <td>121.027535</td>\n",
       "      <td>14.565443</td>\n",
       "      <td>French, Japanese, Desserts</td>\n",
       "      <td>...</td>\n",
       "      <td>Botswana Pula(P)</td>\n",
       "      <td>Yes</td>\n",
       "      <td>No</td>\n",
       "      <td>No</td>\n",
       "      <td>No</td>\n",
       "      <td>3</td>\n",
       "      <td>4.8</td>\n",
       "      <td>Dark Green</td>\n",
       "      <td>Excellent</td>\n",
       "      <td>314</td>\n",
       "    </tr>\n",
       "    <tr>\n",
       "      <th>1</th>\n",
       "      <td>6304287</td>\n",
       "      <td>Izakaya Kikufuji</td>\n",
       "      <td>162</td>\n",
       "      <td>Makati City</td>\n",
       "      <td>Little Tokyo, 2277 Chino Roces Avenue, Legaspi...</td>\n",
       "      <td>Little Tokyo, Legaspi Village, Makati City</td>\n",
       "      <td>Little Tokyo, Legaspi Village, Makati City, Ma...</td>\n",
       "      <td>121.014101</td>\n",
       "      <td>14.553708</td>\n",
       "      <td>Japanese</td>\n",
       "      <td>...</td>\n",
       "      <td>Botswana Pula(P)</td>\n",
       "      <td>Yes</td>\n",
       "      <td>No</td>\n",
       "      <td>No</td>\n",
       "      <td>No</td>\n",
       "      <td>3</td>\n",
       "      <td>4.5</td>\n",
       "      <td>Dark Green</td>\n",
       "      <td>Excellent</td>\n",
       "      <td>591</td>\n",
       "    </tr>\n",
       "    <tr>\n",
       "      <th>2</th>\n",
       "      <td>6300002</td>\n",
       "      <td>Heat - Edsa Shangri-La</td>\n",
       "      <td>162</td>\n",
       "      <td>Mandaluyong City</td>\n",
       "      <td>Edsa Shangri-La, 1 Garden Way, Ortigas, Mandal...</td>\n",
       "      <td>Edsa Shangri-La, Ortigas, Mandaluyong City</td>\n",
       "      <td>Edsa Shangri-La, Ortigas, Mandaluyong City, Ma...</td>\n",
       "      <td>121.056831</td>\n",
       "      <td>14.581404</td>\n",
       "      <td>Seafood, Asian, Filipino, Indian</td>\n",
       "      <td>...</td>\n",
       "      <td>Botswana Pula(P)</td>\n",
       "      <td>Yes</td>\n",
       "      <td>No</td>\n",
       "      <td>No</td>\n",
       "      <td>No</td>\n",
       "      <td>4</td>\n",
       "      <td>4.4</td>\n",
       "      <td>Green</td>\n",
       "      <td>Very Good</td>\n",
       "      <td>270</td>\n",
       "    </tr>\n",
       "    <tr>\n",
       "      <th>3</th>\n",
       "      <td>6318506</td>\n",
       "      <td>Ooma</td>\n",
       "      <td>162</td>\n",
       "      <td>Mandaluyong City</td>\n",
       "      <td>Third Floor, Mega Fashion Hall, SM Megamall, O...</td>\n",
       "      <td>SM Megamall, Ortigas, Mandaluyong City</td>\n",
       "      <td>SM Megamall, Ortigas, Mandaluyong City, Mandal...</td>\n",
       "      <td>121.056475</td>\n",
       "      <td>14.585318</td>\n",
       "      <td>Japanese, Sushi</td>\n",
       "      <td>...</td>\n",
       "      <td>Botswana Pula(P)</td>\n",
       "      <td>No</td>\n",
       "      <td>No</td>\n",
       "      <td>No</td>\n",
       "      <td>No</td>\n",
       "      <td>4</td>\n",
       "      <td>4.9</td>\n",
       "      <td>Dark Green</td>\n",
       "      <td>Excellent</td>\n",
       "      <td>365</td>\n",
       "    </tr>\n",
       "    <tr>\n",
       "      <th>4</th>\n",
       "      <td>6314302</td>\n",
       "      <td>Sambo Kojin</td>\n",
       "      <td>162</td>\n",
       "      <td>Mandaluyong City</td>\n",
       "      <td>Third Floor, Mega Atrium, SM Megamall, Ortigas...</td>\n",
       "      <td>SM Megamall, Ortigas, Mandaluyong City</td>\n",
       "      <td>SM Megamall, Ortigas, Mandaluyong City, Mandal...</td>\n",
       "      <td>121.057508</td>\n",
       "      <td>14.584450</td>\n",
       "      <td>Japanese, Korean</td>\n",
       "      <td>...</td>\n",
       "      <td>Botswana Pula(P)</td>\n",
       "      <td>Yes</td>\n",
       "      <td>No</td>\n",
       "      <td>No</td>\n",
       "      <td>No</td>\n",
       "      <td>4</td>\n",
       "      <td>4.8</td>\n",
       "      <td>Dark Green</td>\n",
       "      <td>Excellent</td>\n",
       "      <td>229</td>\n",
       "    </tr>\n",
       "  </tbody>\n",
       "</table>\n",
       "<p>5 rows × 21 columns</p>\n",
       "</div>"
      ],
      "text/plain": [
       "   Restaurant ID         Restaurant Name   cc              City  \\\n",
       "0        6317637        Le Petit Souffle  162       Makati City   \n",
       "1        6304287        Izakaya Kikufuji  162       Makati City   \n",
       "2        6300002  Heat - Edsa Shangri-La  162  Mandaluyong City   \n",
       "3        6318506                    Ooma  162  Mandaluyong City   \n",
       "4        6314302             Sambo Kojin  162  Mandaluyong City   \n",
       "\n",
       "                                             Address  \\\n",
       "0  Third Floor, Century City Mall, Kalayaan Avenu...   \n",
       "1  Little Tokyo, 2277 Chino Roces Avenue, Legaspi...   \n",
       "2  Edsa Shangri-La, 1 Garden Way, Ortigas, Mandal...   \n",
       "3  Third Floor, Mega Fashion Hall, SM Megamall, O...   \n",
       "4  Third Floor, Mega Atrium, SM Megamall, Ortigas...   \n",
       "\n",
       "                                     Locality  \\\n",
       "0   Century City Mall, Poblacion, Makati City   \n",
       "1  Little Tokyo, Legaspi Village, Makati City   \n",
       "2  Edsa Shangri-La, Ortigas, Mandaluyong City   \n",
       "3      SM Megamall, Ortigas, Mandaluyong City   \n",
       "4      SM Megamall, Ortigas, Mandaluyong City   \n",
       "\n",
       "                                    Locality Verbose   Longitude   Latitude  \\\n",
       "0  Century City Mall, Poblacion, Makati City, Mak...  121.027535  14.565443   \n",
       "1  Little Tokyo, Legaspi Village, Makati City, Ma...  121.014101  14.553708   \n",
       "2  Edsa Shangri-La, Ortigas, Mandaluyong City, Ma...  121.056831  14.581404   \n",
       "3  SM Megamall, Ortigas, Mandaluyong City, Mandal...  121.056475  14.585318   \n",
       "4  SM Megamall, Ortigas, Mandaluyong City, Mandal...  121.057508  14.584450   \n",
       "\n",
       "                           Cuisines  ...          Currency Has Table booking  \\\n",
       "0        French, Japanese, Desserts  ...  Botswana Pula(P)               Yes   \n",
       "1                          Japanese  ...  Botswana Pula(P)               Yes   \n",
       "2  Seafood, Asian, Filipino, Indian  ...  Botswana Pula(P)               Yes   \n",
       "3                   Japanese, Sushi  ...  Botswana Pula(P)                No   \n",
       "4                  Japanese, Korean  ...  Botswana Pula(P)               Yes   \n",
       "\n",
       "  Has Online delivery Is delivering now Switch to order menu Price range  \\\n",
       "0                  No                No                   No           3   \n",
       "1                  No                No                   No           3   \n",
       "2                  No                No                   No           4   \n",
       "3                  No                No                   No           4   \n",
       "4                  No                No                   No           4   \n",
       "\n",
       "   Aggregate rating  Rating color Rating text Votes  \n",
       "0               4.8    Dark Green   Excellent   314  \n",
       "1               4.5    Dark Green   Excellent   591  \n",
       "2               4.4         Green   Very Good   270  \n",
       "3               4.9    Dark Green   Excellent   365  \n",
       "4               4.8    Dark Green   Excellent   229  \n",
       "\n",
       "[5 rows x 21 columns]"
      ]
     },
     "execution_count": 14,
     "metadata": {},
     "output_type": "execute_result"
    }
   ],
   "source": [
    "data.head()"
   ]
  },
  {
   "cell_type": "code",
   "execution_count": 21,
   "id": "b4e055bb",
   "metadata": {},
   "outputs": [
    {
     "data": {
      "text/html": [
       "<div>\n",
       "<style scoped>\n",
       "    .dataframe tbody tr th:only-of-type {\n",
       "        vertical-align: middle;\n",
       "    }\n",
       "\n",
       "    .dataframe tbody tr th {\n",
       "        vertical-align: top;\n",
       "    }\n",
       "\n",
       "    .dataframe thead th {\n",
       "        text-align: right;\n",
       "    }\n",
       "</style>\n",
       "<table border=\"1\" class=\"dataframe\">\n",
       "  <thead>\n",
       "    <tr style=\"text-align: right;\">\n",
       "      <th></th>\n",
       "      <th>Country Code</th>\n",
       "      <th>Country</th>\n",
       "    </tr>\n",
       "  </thead>\n",
       "  <tbody>\n",
       "    <tr>\n",
       "      <th>0</th>\n",
       "      <td>1</td>\n",
       "      <td>India</td>\n",
       "    </tr>\n",
       "    <tr>\n",
       "      <th>1</th>\n",
       "      <td>14</td>\n",
       "      <td>Australia</td>\n",
       "    </tr>\n",
       "    <tr>\n",
       "      <th>2</th>\n",
       "      <td>30</td>\n",
       "      <td>Brazil</td>\n",
       "    </tr>\n",
       "    <tr>\n",
       "      <th>3</th>\n",
       "      <td>37</td>\n",
       "      <td>Canada</td>\n",
       "    </tr>\n",
       "    <tr>\n",
       "      <th>4</th>\n",
       "      <td>94</td>\n",
       "      <td>Indonesia</td>\n",
       "    </tr>\n",
       "  </tbody>\n",
       "</table>\n",
       "</div>"
      ],
      "text/plain": [
       "   Country Code    Country\n",
       "0             1      India\n",
       "1            14  Australia\n",
       "2            30     Brazil\n",
       "3            37     Canada\n",
       "4            94  Indonesia"
      ]
     },
     "execution_count": 21,
     "metadata": {},
     "output_type": "execute_result"
    }
   ],
   "source": [
    "data2.head()"
   ]
  },
  {
   "cell_type": "code",
   "execution_count": 7,
   "id": "42b6b0a4",
   "metadata": {},
   "outputs": [
    {
     "name": "stdout",
     "output_type": "stream",
     "text": [
      "Restaurant ID                                                       51705\n",
      "Restaurant Name                                                      Toit\n",
      "cc                                                                      1\n",
      "City                                                            Bangalore\n",
      "Address                 298, Namma Metro Pillar 62, 100 Feet Road, Ind...\n",
      "Locality                                                      Indiranagar\n",
      "Locality Verbose                                   Indiranagar, Bangalore\n",
      "Longitude                                                       77.640709\n",
      "Latitude                                                        12.979166\n",
      "Cuisines                                         Italian, American, Pizza\n",
      "Average Cost for two                                                 2000\n",
      "Currency                                               Indian Rupees(Rs.)\n",
      "Has Table booking                                                      No\n",
      "Has Online delivery                                                    No\n",
      "Is delivering now                                                      No\n",
      "Switch to order menu                                                   No\n",
      "Price range                                                             4\n",
      "Aggregate rating                                                      4.8\n",
      "Rating color                                                   Dark Green\n",
      "Rating text                                                     Excellent\n",
      "Votes                                                               10934\n",
      "Name: 728, dtype: object\n"
     ]
    }
   ],
   "source": [
    "#answer to Question 1\n",
    "print(data.loc[data['Votes'].idxmax()])"
   ]
  },
  {
   "cell_type": "code",
   "execution_count": 140,
   "id": "288be006",
   "metadata": {},
   "outputs": [
    {
     "name": "stdout",
     "output_type": "stream",
     "text": [
      "[['India', []], ['Australia', [['Montville', 1]]], ['Brazil', []], ['Canada', []], ['Indonesia', []], ['New Zealand', []], ['Phillipines', []], ['Qatar', []], ['Singapore', []], ['South Africa', []], ['Sri Lanka', []], ['Turkey', []], ['UAE', []], ['United Kingdom', []], ['United States', [['Mc Millan', 1]]]]\n"
     ]
    }
   ],
   "source": [
    "#answer to Question 2\n",
    "g=data.groupby('cc')\n",
    "ls=[]\n",
    "for name, dataframe in g:\n",
    "    c=data2.loc[(data2['Country Code']==int(name))]\n",
    "    c=c.iloc[0:,1:2]\n",
    "    c=c.to_string(index=False,header=False)\n",
    "    g2=dataframe.groupby('City')\n",
    "    worstcity=\"\"\n",
    "    x=[]\n",
    "    for name2, dataframe2 in g2:\n",
    "        countb=0\n",
    "        countg=0\n",
    "        for i in dataframe2['Rating text']:\n",
    "            if i==\"Poor\" or i==\"Not Rated\":\n",
    "                countb=countb+1\n",
    "            else:\n",
    "                countg=countg+1\n",
    "        if countb>countg:\n",
    "            x.append([name2,countb])\n",
    "    ls.append([c,x])\n",
    "print(ls)"
   ]
  },
  {
   "cell_type": "code",
   "execution_count": 197,
   "id": "3751257f",
   "metadata": {},
   "outputs": [
    {
     "name": "stdout",
     "output_type": "stream",
     "text": [
      "[['India', 'Panchkula', 4.0], ['Australia', 'Paynesville', 4.0], ['Brazil', 'Sí£o Paulo', 3.6], ['Canada', 'Vineland Station', 4.0], ['Indonesia', 'Bandung', 3.0], ['New Zealand', 'Wellington City', 3.25], ['Phillipines', 'Pasay City', 4.0], ['Qatar', 'Doha', 3.65], ['Singapore', 'Singapore', 3.65], ['South Africa', 'Inner City', 4.0], ['Sri Lanka', 'Colombo', 2.85], ['Turkey', 'ÛÁstanbul', 2.857142857142857], ['UAE', 'Abu Dhabi', 3.3], ['United Kingdom', 'London', 3.0], ['United States', 'Princeton', 4.0]]\n"
     ]
    }
   ],
   "source": [
    "#answer to Question 3\n",
    "g=data.groupby('cc')\n",
    "ls=[]\n",
    "for name, dataframe in g:\n",
    "    c=data2.loc[(data2['Country Code']==int(name))]\n",
    "    c=c.iloc[0:,1:2]\n",
    "    c=c.to_string(index=False,header=False)\n",
    "    g2=dataframe.groupby('City')\n",
    "    max=0\n",
    "    expcity=\"\"\n",
    "    for name2, dataframe2 in g2:\n",
    "        a=dataframe2['Price range'].mean()\n",
    "        if a>max:\n",
    "            max=a\n",
    "            expcity=name2\n",
    "    ls.append([c,expcity,max])\n",
    "print(ls)"
   ]
  },
  {
   "cell_type": "code",
   "execution_count": 24,
   "id": "ff115292",
   "metadata": {},
   "outputs": [
    {
     "data": {
      "text/html": [
       "<div>\n",
       "<style scoped>\n",
       "    .dataframe tbody tr th:only-of-type {\n",
       "        vertical-align: middle;\n",
       "    }\n",
       "\n",
       "    .dataframe tbody tr th {\n",
       "        vertical-align: top;\n",
       "    }\n",
       "\n",
       "    .dataframe thead th {\n",
       "        text-align: right;\n",
       "    }\n",
       "</style>\n",
       "<table border=\"1\" class=\"dataframe\">\n",
       "  <thead>\n",
       "    <tr style=\"text-align: right;\">\n",
       "      <th></th>\n",
       "      <th>cc</th>\n",
       "      <th>Country</th>\n",
       "    </tr>\n",
       "  </thead>\n",
       "  <tbody>\n",
       "    <tr>\n",
       "      <th>0</th>\n",
       "      <td>1</td>\n",
       "      <td>India</td>\n",
       "    </tr>\n",
       "    <tr>\n",
       "      <th>1</th>\n",
       "      <td>14</td>\n",
       "      <td>Australia</td>\n",
       "    </tr>\n",
       "    <tr>\n",
       "      <th>2</th>\n",
       "      <td>30</td>\n",
       "      <td>Brazil</td>\n",
       "    </tr>\n",
       "    <tr>\n",
       "      <th>3</th>\n",
       "      <td>37</td>\n",
       "      <td>Canada</td>\n",
       "    </tr>\n",
       "    <tr>\n",
       "      <th>4</th>\n",
       "      <td>94</td>\n",
       "      <td>Indonesia</td>\n",
       "    </tr>\n",
       "  </tbody>\n",
       "</table>\n",
       "</div>"
      ],
      "text/plain": [
       "   cc    Country\n",
       "0   1      India\n",
       "1  14  Australia\n",
       "2  30     Brazil\n",
       "3  37     Canada\n",
       "4  94  Indonesia"
      ]
     },
     "execution_count": 24,
     "metadata": {},
     "output_type": "execute_result"
    }
   ],
   "source": [
    "data2.head()"
   ]
  },
  {
   "cell_type": "code",
   "execution_count": 29,
   "id": "3bc46294",
   "metadata": {},
   "outputs": [
    {
     "name": "stdout",
     "output_type": "stream",
     "text": [
      "Locality\n",
      "Connaught Place                 122\n",
      "Rajouri Garden                   99\n",
      "Shahdara                         87\n",
      "Defence Colony                   86\n",
      "Malviya Nagar                    85\n",
      "                               ... \n",
      "Hathi Gate                        1\n",
      "Maurya Lok, Fraser Road Area      1\n",
      "Hampankatta                       1\n",
      "HIG-LIG                           1\n",
      "Paltan Bazaar                     1\n",
      "Length: 784, dtype: int64\n"
     ]
    }
   ],
   "source": [
    "#answer to Question 4\n",
    "g=data.groupby('cc')\n",
    "con=0\n",
    "for index, row in data2.iterrows():#finds the cc for India\n",
    "    if row['Country']=='India':\n",
    "        con=row['cc']\n",
    "        break;\n",
    "India=g.get_group(con)\n",
    "c=str(India.value_counts('Locality'))\n",
    "print(c)"
   ]
  },
  {
   "cell_type": "code",
   "execution_count": 169,
   "id": "3302948d",
   "metadata": {},
   "outputs": [
    {
     "name": "stdout",
     "output_type": "stream",
     "text": [
      "India: \n",
      "Connaught Place                 122\n",
      "\n",
      "Australia: \n",
      "Hepburn Springs    2\n",
      "\n",
      "Brazil: \n",
      "Asa Sul                                     6\n",
      "\n",
      "Canada: \n",
      "Chatham-Kent        1\n",
      "\n",
      "Indonesia: \n",
      "Senopati                                  2\n",
      "\n",
      "New Zealand: \n",
      "Te Aro                             15\n",
      "\n",
      "Phillipines: \n",
      "Kapitolyo                                              3\n",
      "\n",
      "Qatar: \n",
      "Umm Ghuwailina                                     2\n",
      "\n",
      "Singapore: \n",
      "Marina Centre, Downtown Core       3\n",
      "\n",
      "South Africa: \n",
      "Brooklyn                                       3\n",
      "\n",
      "Sri Lanka: \n",
      "Kollupitiya, Colombo 03         7\n",
      "\n",
      "Turkey: \n",
      "Karakí_y                                  4\n",
      "\n",
      "UAE: \n",
      "University City                                    3\n",
      "\n",
      "United Kingdom: \n",
      "Old Town                                 9\n",
      "\n",
      "United States: \n",
      "Dubuque                       20\n",
      "\n"
     ]
    }
   ],
   "source": [
    "#answer to Question 5\n",
    "g=data.groupby('cc')\n",
    "ls=[]\n",
    "for name, dataframe in g:\n",
    "    c=data2.loc[(data2['Country Code']==int(name))]\n",
    "    c=c.iloc[0:,1:2]\n",
    "    c=c.to_string(index=False,header=False)\n",
    "    print(c+\": \")\n",
    "    b=dataframe.value_counts('Locality')\n",
    "    b=str(b).split('\\n')[1]\n",
    "    print(b)\n",
    "    print()"
   ]
  },
  {
   "cell_type": "code",
   "execution_count": 171,
   "id": "c781f3aa",
   "metadata": {},
   "outputs": [
    {
     "name": "stdout",
     "output_type": "stream",
     "text": [
      "Cafe Coffee Day                            83\n"
     ]
    }
   ],
   "source": [
    "#Answer to Question 6\n",
    "c=str(data.value_counts('Restaurant Name'))\n",
    "c=str(c).split('\\n')[1]\n",
    "print(c)"
   ]
  },
  {
   "cell_type": "code",
   "execution_count": 174,
   "id": "75d9661b",
   "metadata": {},
   "outputs": [
    {
     "name": "stdout",
     "output_type": "stream",
     "text": [
      "Yes    2451\n"
     ]
    }
   ],
   "source": [
    "#Answer to Question 7\n",
    "c=str(data.value_counts('Has Online delivery'))\n",
    "c=str(c).split('\\n')[2]\n",
    "print(c)"
   ]
  },
  {
   "cell_type": "code",
   "execution_count": 176,
   "id": "1e16fa7f",
   "metadata": {},
   "outputs": [
    {
     "name": "stdout",
     "output_type": "stream",
     "text": [
      "Yes    1158\n"
     ]
    }
   ],
   "source": [
    "#Answer to Question 8\n",
    "c=str(data.value_counts('Has Table booking'))\n",
    "c=str(c).split('\\n')[2]\n",
    "print(c)"
   ]
  },
  {
   "cell_type": "code",
   "execution_count": 178,
   "id": "f02a64a7",
   "metadata": {},
   "outputs": [
    {
     "name": "stdout",
     "output_type": "stream",
     "text": [
      "Connaught Place        122\n"
     ]
    }
   ],
   "source": [
    "#Answer to Question 9\n",
    "c=str(data.value_counts('Locality'))\n",
    "c=str(c).split('\\n')[1]\n",
    "print(c)\n",
    "#this one is basically cheating but I wanted to get more done"
   ]
  },
  {
   "cell_type": "code",
   "execution_count": 194,
   "id": "c36cb797",
   "metadata": {},
   "outputs": [
    {
     "name": "stdout",
     "output_type": "stream",
     "text": [
      "North Indian : 2992\n"
     ]
    }
   ],
   "source": [
    "#Answer to Question 10\n",
    "dic={}\n",
    "ma=0\n",
    "maxcuisine=\"\"\n",
    "for index, row in data.iterrows():# we have to use this method due to their being restaurants with 2 cuisines\n",
    "    cur=str(row['Cuisines']).split(',')\n",
    "    for i in cur:\n",
    "        if(dic.get(i))==None:\n",
    "            dic.update({i:1})\n",
    "        else:\n",
    "            dic.update({i:dic.get(i)+1})\n",
    "        if ma<dic.get(i):\n",
    "            ma=dic.get(i)\n",
    "            maxcuisine=i\n",
    "print(maxcuisine+\" : \"+ str(ma))"
   ]
  },
  {
   "cell_type": "code",
   "execution_count": 196,
   "id": "56f46080",
   "metadata": {},
   "outputs": [
    {
     "name": "stdout",
     "output_type": "stream",
     "text": [
      "4.9 : American, BBQ, Sandwich\n"
     ]
    }
   ],
   "source": [
    "#Anser to Question 11\n",
    "g=data.groupby('Cuisines')\n",
    "ls=[]\n",
    "max=0\n",
    "best=\"\"\n",
    "for name, dataframe in g:\n",
    "    a=dataframe['Aggregate rating'].mean()\n",
    "    if a>max:\n",
    "        max=a\n",
    "        best=name\n",
    "print(str(max)+\" : \"+expcity)"
   ]
  },
  {
   "cell_type": "code",
   "execution_count": 181,
   "id": "8dbda085",
   "metadata": {},
   "outputs": [
    {
     "name": "stdout",
     "output_type": "stream",
     "text": [
      "1199.2107632708617\n"
     ]
    }
   ],
   "source": [
    "#Answer to Question 12\n",
    "c=data['Average Cost for two'].mean()\n",
    "print(c)"
   ]
  },
  {
   "cell_type": "code",
   "execution_count": null,
   "id": "c0df96fd",
   "metadata": {},
   "outputs": [],
   "source": [
    "#13 was not done due to it overlapping with 11"
   ]
  }
 ],
 "metadata": {
  "kernelspec": {
   "display_name": "Python 3",
   "language": "python",
   "name": "python3"
  },
  "language_info": {
   "codemirror_mode": {
    "name": "ipython",
    "version": 3
   },
   "file_extension": ".py",
   "mimetype": "text/x-python",
   "name": "python",
   "nbconvert_exporter": "python",
   "pygments_lexer": "ipython3",
   "version": "3.8.10"
  }
 },
 "nbformat": 4,
 "nbformat_minor": 5
}
